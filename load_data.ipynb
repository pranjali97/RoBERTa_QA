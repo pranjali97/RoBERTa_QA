{
 "cells": [
  {
   "cell_type": "code",
   "execution_count": 22,
   "id": "e8aefccb-fa77-41d9-82b8-c4610d6ba3e2",
   "metadata": {},
   "outputs": [],
   "source": [
    "import pandas as pd\n",
    "\n",
    "def extract_data_fromJSON(filename):\n",
    "    data = json.load(open(filename))\n",
    "    modified_data = []\n",
    "\n",
    "    for row in data[\"data\"]:\n",
    "        doc = row[\"paragraphs\"][0]\n",
    "        for question in doc[\"qas\"]:\n",
    "            ele = {\"context\": doc[\"context\"], \"document_id\": doc[\"document_id\"]}\n",
    "            ele[\"question\"] = question[\"question\"]\n",
    "            ele[\"answers\"] = {\n",
    "                \"text\": [ans[\"text\"] for ans in question[\"answers\"]],\n",
    "                \"answer_start\": [ans[\"answer_start\"] for ans in question[\"answers\"]],\n",
    "            }  # question[\"answers\"]\n",
    "            ele[\"id\"] = question[\"id\"]\n",
    "            modified_data.append(ele)\n",
    "    return pd.DataFrame(modified_data)"
   ]
  },
  {
   "cell_type": "code",
   "execution_count": 23,
   "id": "5407e98f-619e-4403-a8db-ed7ed101f059",
   "metadata": {},
   "outputs": [],
   "source": [
    "test_json = 'covid-qa/covid-qa-test.json'\n",
    "dev_json = 'covid-qa/covid-qa-dev.json'\n",
    "train_json = 'covid-qa/covid-qa-train.json'\n",
    "\n",
    "test_df = extract_data_fromJSON(test_json)\n",
    "dev_df = extract_data_fromJSON(dev_json)\n",
    "train_df = extract_data_fromJSON(train_json)"
   ]
  },
  {
   "cell_type": "code",
   "execution_count": 24,
   "id": "2ee9386f-d530-45c9-b5f0-872243ee98aa",
   "metadata": {
    "tags": []
   },
   "outputs": [
    {
     "name": "stdout",
     "output_type": "stream",
     "text": [
      "(1417, 5) (203, 5) (375, 5)\n"
     ]
    }
   ],
   "source": [
    "print(train_df.shape, dev_df.shape, test_df.shape)"
   ]
  },
  {
   "cell_type": "code",
   "execution_count": 25,
   "id": "2c83237a-0bc6-492d-9247-611881c55a58",
   "metadata": {},
   "outputs": [
    {
     "data": {
      "text/html": [
       "<div>\n",
       "<style scoped>\n",
       "    .dataframe tbody tr th:only-of-type {\n",
       "        vertical-align: middle;\n",
       "    }\n",
       "\n",
       "    .dataframe tbody tr th {\n",
       "        vertical-align: top;\n",
       "    }\n",
       "\n",
       "    .dataframe thead th {\n",
       "        text-align: right;\n",
       "    }\n",
       "</style>\n",
       "<table border=\"1\" class=\"dataframe\">\n",
       "  <thead>\n",
       "    <tr style=\"text-align: right;\">\n",
       "      <th></th>\n",
       "      <th>context</th>\n",
       "      <th>document_id</th>\n",
       "      <th>question</th>\n",
       "      <th>answers</th>\n",
       "      <th>id</th>\n",
       "    </tr>\n",
       "  </thead>\n",
       "  <tbody>\n",
       "    <tr>\n",
       "      <th>0</th>\n",
       "      <td>Respiratory Viral Infections in Exacerbation o...</td>\n",
       "      <td>2504</td>\n",
       "      <td>When is this especially true?</td>\n",
       "      <td>{'text': ['when not all exacerbation events oc...</td>\n",
       "      <td>3963</td>\n",
       "    </tr>\n",
       "    <tr>\n",
       "      <th>1</th>\n",
       "      <td>Respiratory Viral Infections in Exacerbation o...</td>\n",
       "      <td>2504</td>\n",
       "      <td>What is the current understanding on viral-ind...</td>\n",
       "      <td>{'text': ['that viral infection increases airw...</td>\n",
       "      <td>3855</td>\n",
       "    </tr>\n",
       "    <tr>\n",
       "      <th>2</th>\n",
       "      <td>Respiratory Viral Infections in Exacerbation o...</td>\n",
       "      <td>2504</td>\n",
       "      <td>What have evoked new understandings as to the ...</td>\n",
       "      <td>{'text': ['Recent advances in in vitro air-liq...</td>\n",
       "      <td>3856</td>\n",
       "    </tr>\n",
       "    <tr>\n",
       "      <th>3</th>\n",
       "      <td>Respiratory Viral Infections in Exacerbation o...</td>\n",
       "      <td>2504</td>\n",
       "      <td>What is one of  the major sources of exacerbat...</td>\n",
       "      <td>{'text': ['Respiratory virus infection'], 'ans...</td>\n",
       "      <td>3854</td>\n",
       "    </tr>\n",
       "    <tr>\n",
       "      <th>4</th>\n",
       "      <td>Respiratory Viral Infections in Exacerbation o...</td>\n",
       "      <td>2504</td>\n",
       "      <td>What is the focus of this review?</td>\n",
       "      <td>{'text': [' recent novel findings that elucida...</td>\n",
       "      <td>3857</td>\n",
       "    </tr>\n",
       "    <tr>\n",
       "      <th>...</th>\n",
       "      <td>...</td>\n",
       "      <td>...</td>\n",
       "      <td>...</td>\n",
       "      <td>...</td>\n",
       "      <td>...</td>\n",
       "    </tr>\n",
       "    <tr>\n",
       "      <th>370</th>\n",
       "      <td>Obesity and risk of respiratory tract infectio...</td>\n",
       "      <td>1563</td>\n",
       "      <td>What conditions are considered upper respirato...</td>\n",
       "      <td>{'text': ['common cold, pharyngitis, otitis, s...</td>\n",
       "      <td>328</td>\n",
       "    </tr>\n",
       "    <tr>\n",
       "      <th>371</th>\n",
       "      <td>Obesity and risk of respiratory tract infectio...</td>\n",
       "      <td>1563</td>\n",
       "      <td>What conditions are considered lower respirato...</td>\n",
       "      <td>{'text': ['bronchitis, pneumonia and bronchiol...</td>\n",
       "      <td>329</td>\n",
       "    </tr>\n",
       "    <tr>\n",
       "      <th>372</th>\n",
       "      <td>Obesity and risk of respiratory tract infectio...</td>\n",
       "      <td>1563</td>\n",
       "      <td>What immune cells are primarily involved in el...</td>\n",
       "      <td>{'text': ['NK cells (CD3-/CD16+/CD56+)'], 'ans...</td>\n",
       "      <td>330</td>\n",
       "    </tr>\n",
       "    <tr>\n",
       "      <th>373</th>\n",
       "      <td>Obesity and risk of respiratory tract infectio...</td>\n",
       "      <td>1563</td>\n",
       "      <td>What molecules have been shown to hinder T cel...</td>\n",
       "      <td>{'text': ['Excessive reactive oxygen species (...</td>\n",
       "      <td>331</td>\n",
       "    </tr>\n",
       "    <tr>\n",
       "      <th>374</th>\n",
       "      <td>Obesity and risk of respiratory tract infectio...</td>\n",
       "      <td>1563</td>\n",
       "      <td>The accumulation of what molecule hinders phag...</td>\n",
       "      <td>{'text': ['reactive oxygen species (ROS)'], 'a...</td>\n",
       "      <td>332</td>\n",
       "    </tr>\n",
       "  </tbody>\n",
       "</table>\n",
       "<p>375 rows × 5 columns</p>\n",
       "</div>"
      ],
      "text/plain": [
       "                                               context  document_id  \\\n",
       "0    Respiratory Viral Infections in Exacerbation o...         2504   \n",
       "1    Respiratory Viral Infections in Exacerbation o...         2504   \n",
       "2    Respiratory Viral Infections in Exacerbation o...         2504   \n",
       "3    Respiratory Viral Infections in Exacerbation o...         2504   \n",
       "4    Respiratory Viral Infections in Exacerbation o...         2504   \n",
       "..                                                 ...          ...   \n",
       "370  Obesity and risk of respiratory tract infectio...         1563   \n",
       "371  Obesity and risk of respiratory tract infectio...         1563   \n",
       "372  Obesity and risk of respiratory tract infectio...         1563   \n",
       "373  Obesity and risk of respiratory tract infectio...         1563   \n",
       "374  Obesity and risk of respiratory tract infectio...         1563   \n",
       "\n",
       "                                              question  \\\n",
       "0                        When is this especially true?   \n",
       "1    What is the current understanding on viral-ind...   \n",
       "2    What have evoked new understandings as to the ...   \n",
       "3    What is one of  the major sources of exacerbat...   \n",
       "4                    What is the focus of this review?   \n",
       "..                                                 ...   \n",
       "370  What conditions are considered upper respirato...   \n",
       "371  What conditions are considered lower respirato...   \n",
       "372  What immune cells are primarily involved in el...   \n",
       "373  What molecules have been shown to hinder T cel...   \n",
       "374  The accumulation of what molecule hinders phag...   \n",
       "\n",
       "                                               answers    id  \n",
       "0    {'text': ['when not all exacerbation events oc...  3963  \n",
       "1    {'text': ['that viral infection increases airw...  3855  \n",
       "2    {'text': ['Recent advances in in vitro air-liq...  3856  \n",
       "3    {'text': ['Respiratory virus infection'], 'ans...  3854  \n",
       "4    {'text': [' recent novel findings that elucida...  3857  \n",
       "..                                                 ...   ...  \n",
       "370  {'text': ['common cold, pharyngitis, otitis, s...   328  \n",
       "371  {'text': ['bronchitis, pneumonia and bronchiol...   329  \n",
       "372  {'text': ['NK cells (CD3-/CD16+/CD56+)'], 'ans...   330  \n",
       "373  {'text': ['Excessive reactive oxygen species (...   331  \n",
       "374  {'text': ['reactive oxygen species (ROS)'], 'a...   332  \n",
       "\n",
       "[375 rows x 5 columns]"
      ]
     },
     "execution_count": 25,
     "metadata": {},
     "output_type": "execute_result"
    }
   ],
   "source": [
    "test_df"
   ]
  },
  {
   "cell_type": "code",
   "execution_count": null,
   "id": "51b91723-a141-4444-bbe7-8e2a75eb7717",
   "metadata": {},
   "outputs": [],
   "source": []
  },
  {
   "cell_type": "markdown",
   "id": "eca2953f-e287-42d4-b12f-f275f3e2b254",
   "metadata": {},
   "source": [
    "PART - 1"
   ]
  },
  {
   "cell_type": "code",
   "execution_count": 27,
   "id": "5727d18e-9478-4f1d-a3f0-ee7cc04b2017",
   "metadata": {},
   "outputs": [],
   "source": [
    "from transformers import AutoModelForQuestionAnswering, AutoTokenizer, pipeline"
   ]
  },
  {
   "cell_type": "code",
   "execution_count": 28,
   "id": "5e527977-422e-48df-a858-f885a2279541",
   "metadata": {},
   "outputs": [
    {
     "data": {
      "application/vnd.jupyter.widget-view+json": {
       "model_id": "da143beab61148cc96ae2e7237e15ff2",
       "version_major": 2,
       "version_minor": 0
      },
      "text/plain": [
       "Downloading:   0%|          | 0.00/571 [00:00<?, ?B/s]"
      ]
     },
     "metadata": {},
     "output_type": "display_data"
    },
    {
     "data": {
      "application/vnd.jupyter.widget-view+json": {
       "model_id": "cb9ba9ee7223468ba36913c9157bcd1b",
       "version_major": 2,
       "version_minor": 0
      },
      "text/plain": [
       "Downloading:   0%|          | 0.00/473M [00:00<?, ?B/s]"
      ]
     },
     "metadata": {},
     "output_type": "display_data"
    },
    {
     "data": {
      "application/vnd.jupyter.widget-view+json": {
       "model_id": "7deb051f7a8a47d0ac452146ba3c6776",
       "version_major": 2,
       "version_minor": 0
      },
      "text/plain": [
       "Downloading:   0%|          | 0.00/79.0 [00:00<?, ?B/s]"
      ]
     },
     "metadata": {},
     "output_type": "display_data"
    },
    {
     "data": {
      "application/vnd.jupyter.widget-view+json": {
       "model_id": "a622d07ddbd5412da4153236f58bf53f",
       "version_major": 2,
       "version_minor": 0
      },
      "text/plain": [
       "Downloading:   0%|          | 0.00/878k [00:00<?, ?B/s]"
      ]
     },
     "metadata": {},
     "output_type": "display_data"
    },
    {
     "data": {
      "application/vnd.jupyter.widget-view+json": {
       "model_id": "64a84e8799d347ee8c8cb56b8d6e8654",
       "version_major": 2,
       "version_minor": 0
      },
      "text/plain": [
       "Downloading:   0%|          | 0.00/446k [00:00<?, ?B/s]"
      ]
     },
     "metadata": {},
     "output_type": "display_data"
    },
    {
     "data": {
      "application/vnd.jupyter.widget-view+json": {
       "model_id": "f83ed9d353b74678b07714139287fb59",
       "version_major": 2,
       "version_minor": 0
      },
      "text/plain": [
       "Downloading:   0%|          | 0.00/772 [00:00<?, ?B/s]"
      ]
     },
     "metadata": {},
     "output_type": "display_data"
    }
   ],
   "source": [
    "model_name = \"deepset/roberta-base-squad2\"\n",
    "\n",
    "nlp = pipeline('question-answering', model=model_name, tokenizer=model_name)"
   ]
  },
  {
   "cell_type": "code",
   "execution_count": null,
   "id": "2bdf3b4f-f42b-4c6a-838c-a84c3887f2e2",
   "metadata": {},
   "outputs": [],
   "source": [
    "QA_input = {\n",
    "    'question': 'Why is model conversion important?',\n",
    "    'context': 'The option to convert models between FARM and transformers gives freedom to the user and let people easily switch between frameworks.'\n",
    "}\n",
    "res = nlp(QA_input)\n"
   ]
  },
  {
   "cell_type": "code",
   "execution_count": null,
   "id": "ffcca7b0-5563-4e28-a484-01a454d6ea1c",
   "metadata": {},
   "outputs": [],
   "source": []
  }
 ],
 "metadata": {
  "kernelspec": {
   "display_name": "Python 3 (ipykernel)",
   "language": "python",
   "name": "python3"
  },
  "language_info": {
   "codemirror_mode": {
    "name": "ipython",
    "version": 3
   },
   "file_extension": ".py",
   "mimetype": "text/x-python",
   "name": "python",
   "nbconvert_exporter": "python",
   "pygments_lexer": "ipython3",
   "version": "3.10.6"
  }
 },
 "nbformat": 4,
 "nbformat_minor": 5
}
